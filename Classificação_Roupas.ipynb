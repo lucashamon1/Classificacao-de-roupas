{
  "nbformat": 4,
  "nbformat_minor": 0,
  "metadata": {
    "colab": {
      "provenance": [],
      "authorship_tag": "ABX9TyPkIFJtD9OYiKc5aj6DtSMP",
      "include_colab_link": true
    },
    "kernelspec": {
      "name": "python3",
      "display_name": "Python 3"
    },
    "language_info": {
      "name": "python"
    }
  },
  "cells": [
    {
      "cell_type": "markdown",
      "metadata": {
        "id": "view-in-github",
        "colab_type": "text"
      },
      "source": [
        "<a href=\"https://colab.research.google.com/github/lucashamon1/Classificacao-de-roupas/blob/main/Classifica%C3%A7%C3%A3o_Roupas.ipynb\" target=\"_parent\"><img src=\"https://colab.research.google.com/assets/colab-badge.svg\" alt=\"Open In Colab\"/></a>"
      ]
    },
    {
      "cell_type": "code",
      "execution_count": 1,
      "metadata": {
        "id": "TDTu1m-I4oFV"
      },
      "outputs": [],
      "source": [
        "import tensorflow\n",
        "from tensorflow import keras\n",
        "import numpy as np"
      ]
    },
    {
      "cell_type": "code",
      "source": [
        "dados = keras.datasets.fashion_mnist"
      ],
      "metadata": {
        "id": "95bJ-yP-5ilM"
      },
      "execution_count": 2,
      "outputs": []
    },
    {
      "cell_type": "code",
      "source": [
        "((imagens_treino, identificacoes_treino), (imagens_teste, identificacoes_teste)) = dados.load_data()"
      ],
      "metadata": {
        "id": "oM8ktHS65oF7",
        "colab": {
          "base_uri": "https://localhost:8080/"
        },
        "outputId": "26d0efa9-aaf4-494e-bc1d-d7db5698dc13"
      },
      "execution_count": 3,
      "outputs": [
        {
          "output_type": "stream",
          "name": "stdout",
          "text": [
            "Downloading data from https://storage.googleapis.com/tensorflow/tf-keras-datasets/train-labels-idx1-ubyte.gz\n",
            "29515/29515 [==============================] - 0s 0us/step\n",
            "Downloading data from https://storage.googleapis.com/tensorflow/tf-keras-datasets/train-images-idx3-ubyte.gz\n",
            "26421880/26421880 [==============================] - 0s 0us/step\n",
            "Downloading data from https://storage.googleapis.com/tensorflow/tf-keras-datasets/t10k-labels-idx1-ubyte.gz\n",
            "5148/5148 [==============================] - 0s 0us/step\n",
            "Downloading data from https://storage.googleapis.com/tensorflow/tf-keras-datasets/t10k-images-idx3-ubyte.gz\n",
            "4422102/4422102 [==============================] - 0s 0us/step\n"
          ]
        }
      ]
    },
    {
      "cell_type": "code",
      "source": [
        "imagens_treino.shape"
      ],
      "metadata": {
        "colab": {
          "base_uri": "https://localhost:8080/"
        },
        "id": "rXmJYJ-16F2e",
        "outputId": "2f26f3c0-2957-4a06-ec7b-bea37e67b6c5"
      },
      "execution_count": 4,
      "outputs": [
        {
          "output_type": "execute_result",
          "data": {
            "text/plain": [
              "(60000, 28, 28)"
            ]
          },
          "metadata": {},
          "execution_count": 4
        }
      ]
    },
    {
      "cell_type": "code",
      "source": [
        "imagens_teste.shape"
      ],
      "metadata": {
        "colab": {
          "base_uri": "https://localhost:8080/"
        },
        "id": "v2Gp2YIs6b8i",
        "outputId": "852b397e-d6b4-412f-d195-ffa3b6bed437"
      },
      "execution_count": 5,
      "outputs": [
        {
          "output_type": "execute_result",
          "data": {
            "text/plain": [
              "(10000, 28, 28)"
            ]
          },
          "metadata": {},
          "execution_count": 5
        }
      ]
    },
    {
      "cell_type": "code",
      "source": [
        "import matplotlib.pyplot as plt"
      ],
      "metadata": {
        "id": "TVbuxqxq6gzD"
      },
      "execution_count": 6,
      "outputs": []
    },
    {
      "cell_type": "code",
      "source": [
        "plt.imshow(imagens_treino[0])\n",
        "plt.title(identificacoes_treino[0])"
      ],
      "metadata": {
        "colab": {
          "base_uri": "https://localhost:8080/",
          "height": 299
        },
        "id": "CDwO9KZE6uc5",
        "outputId": "6722aa29-e2eb-4a8a-db9e-3960372b9cd1"
      },
      "execution_count": 7,
      "outputs": [
        {
          "output_type": "execute_result",
          "data": {
            "text/plain": [
              "Text(0.5, 1.0, '9')"
            ]
          },
          "metadata": {},
          "execution_count": 7
        },
        {
          "output_type": "display_data",
          "data": {
            "text/plain": [
              "<Figure size 432x288 with 1 Axes>"
            ],
            "image/png": "[encoded data removed]"
          },
          "metadata": {
            "needs_background": "light"
          }
        }
      ]
    },
    {
      "cell_type": "code",
      "source": [
        "identificacoes_treino.min()\n",
        "identificacoes_treino.max()\n",
        "total_de_classificacoes = 10"
      ],
      "metadata": {
        "id": "sUa8k8FV8k4W"
      },
      "execution_count": 8,
      "outputs": []
    },
    {
      "cell_type": "code",
      "source": [
        "for imagem in range(10):\n",
        "  plt.subplot(2,5, imagem+1)\n",
        "  plt.imshow(imagens_treino[imagem])\n",
        "  plt.title(identificacoes_treino[imagem])"
      ],
      "metadata": {
        "colab": {
          "base_uri": "https://localhost:8080/",
          "height": 240
        },
        "id": "B3-x6I8s61HE",
        "outputId": "a42c619b-3f11-493e-d5f9-d071c8164e27"
      },
      "execution_count": 9,
      "outputs": [
        {
          "output_type": "display_data",
          "data": {
            "text/plain": [
              "<Figure size 432x288 with 10 Axes>"
            ],
            "image/png": "[encoded data removed]"
          },
          "metadata": {
            "needs_background": "light"
          }
        }
      ]
    },
    {
      "cell_type": "code",
      "source": [
        "nomes_classificacoes = ['Camiseta', 'Calça', 'Pullover', 'Vestido', 'Casaco', 'Sandalia','Camisa', 'Tênis', 'Bolsa', 'Bota']"
      ],
      "metadata": {
        "id": "wx7DfGqM7_Dd"
      },
      "execution_count": 10,
      "outputs": []
    },
    {
      "cell_type": "code",
      "source": [
        "for imagem in range(10):\n",
        "  plt.subplot(2,5, imagem+1)\n",
        "  plt.imshow(imagens_treino[imagem])\n",
        "  plt.title(nomes_classificacoes[identificacoes_treino[imagem]])\n",
        "plt.colorbar()"
      ],
      "metadata": {
        "colab": {
          "base_uri": "https://localhost:8080/",
          "height": 268
        },
        "id": "KEVMnKlo-Ojl",
        "outputId": "f9d5be03-d1c8-4169-8855-d4ebabb88b49"
      },
      "execution_count": 11,
      "outputs": [
        {
          "output_type": "execute_result",
          "data": {
            "text/plain": [
              "<matplotlib.colorbar.Colorbar at 0x7f4a6a8a8750>"
            ]
          },
          "metadata": {},
          "execution_count": 11
        },
        {
          "output_type": "display_data",
          "data": {
            "text/plain": [
              "<Figure size 432x288 with 11 Axes>"
            ],
            "image/png": "[encoded data removed]"
          },
          "metadata": {
            "needs_background": "light"
          }
        }
      ]
    },
    {
      "cell_type": "markdown",
      "source": [
        "#Criação do Modelo"
      ],
      "metadata": {
        "id": "vYrg8XW2DRBA"
      }
    },
    {
      "cell_type": "code",
      "source": [
        "modelo = keras.Sequential([\n",
        "  keras.layers.Flatten(input_shape = (28, 28)), #camada 0 - camada de entrada\n",
        "  keras.layers.Dense(256, activation= tensorflow.nn.relu), #camada 1 - camada de processamento\n",
        "  #256 é um hiperparâmetro\n",
        "  #relu é uma função não linear de ativação\n",
        "  keras.layers.Dense(10, activation = tensorflow.nn.softmax) #camada 2 - camada de saida\n",
        "  #softmax cria probabilidades para cada item pertencer a cada categoria\n",
        "  ])\n"
      ],
      "metadata": {
        "id": "MghegcVt-Tz2"
      },
      "execution_count": 12,
      "outputs": []
    },
    {
      "cell_type": "markdown",
      "source": [
        "#Treino do Modelo"
      ],
      "metadata": {
        "id": "FYW_uun8DT8N"
      }
    },
    {
      "cell_type": "code",
      "source": [
        "modelo.compile(optimizer='adam', loss='sparse_categorical_crossentropy')"
      ],
      "metadata": {
        "id": "aQUWHc-VDjKh"
      },
      "execution_count": 13,
      "outputs": []
    },
    {
      "cell_type": "code",
      "source": [
        "modelo.fit(imagens_treino, identificacoes_treino)"
      ],
      "metadata": {
        "colab": {
          "base_uri": "https://localhost:8080/"
        },
        "id": "bLY0ovuFDPt-",
        "outputId": "23ff6ea0-75d3-4b3a-db71-1f50473f2d9d"
      },
      "execution_count": 14,
      "outputs": [
        {
          "output_type": "stream",
          "name": "stdout",
          "text": [
            "1875/1875 [==============================] - 14s 7ms/step - loss: 3.3929\n"
          ]
        },
        {
          "output_type": "execute_result",
          "data": {
            "text/plain": [
              "<keras.callbacks.History at 0x7f4a6ab0d0d0>"
            ]
          },
          "metadata": {},
          "execution_count": 14
        }
      ]
    },
    {
      "cell_type": "markdown",
      "source": [
        "loss do Modelo = 3.3929"
      ],
      "metadata": {
        "id": "qRQzBB_rFCHv"
      }
    },
    {
      "cell_type": "markdown",
      "source": [
        "#Normalização"
      ],
      "metadata": {
        "id": "iXZaxlTVF6fG"
      }
    },
    {
      "cell_type": "code",
      "source": [
        "#Normalização dos valores de cor\n",
        "imagens_treino = imagens_treino/float(255)"
      ],
      "metadata": {
        "id": "J5r2797mDcod"
      },
      "execution_count": 15,
      "outputs": []
    },
    {
      "cell_type": "code",
      "source": [
        "modelo.fit(imagens_treino, identificacoes_treino)"
      ],
      "metadata": {
        "colab": {
          "base_uri": "https://localhost:8080/"
        },
        "id": "M9OtXa4YFilp",
        "outputId": "bf09d795-e698-4adc-98a8-debfd24538cd"
      },
      "execution_count": 16,
      "outputs": [
        {
          "output_type": "stream",
          "name": "stdout",
          "text": [
            "1875/1875 [==============================] - 7s 4ms/step - loss: 0.9515\n"
          ]
        },
        {
          "output_type": "execute_result",
          "data": {
            "text/plain": [
              "<keras.callbacks.History at 0x7f4a6ac96c10>"
            ]
          },
          "metadata": {},
          "execution_count": 16
        }
      ]
    },
    {
      "cell_type": "markdown",
      "source": [
        "Com a normalização chegamos a uma perda (loss) de 0.9515"
      ],
      "metadata": {
        "id": "zE_whoeqFmzT"
      }
    },
    {
      "cell_type": "markdown",
      "source": [
        "#Adicionando Camada Intermediária"
      ],
      "metadata": {
        "id": "5jar0pJ1F9MW"
      }
    },
    {
      "cell_type": "code",
      "source": [
        "modelo2 = keras.Sequential([\n",
        "  keras.layers.Flatten(input_shape = (28, 28)),\n",
        "  keras.layers.Dense(256, activation= tensorflow.nn.relu),\n",
        "  keras.layers.Dense(128, activation=tensorflow.nn.relu), #camada oculta\n",
        "  keras.layers.Dense(10, activation = tensorflow.nn.softmax)\n",
        "  ])"
      ],
      "metadata": {
        "id": "ORs-Lh8RFtgE"
      },
      "execution_count": 17,
      "outputs": []
    },
    {
      "cell_type": "code",
      "source": [
        "modelo2.compile(optimizer='adam', loss='sparse_categorical_crossentropy')\n",
        "modelo2.fit(imagens_treino, identificacoes_treino)"
      ],
      "metadata": {
        "colab": {
          "base_uri": "https://localhost:8080/"
        },
        "id": "5LgBiCXQGTFc",
        "outputId": "9474f18e-3b19-4b40-a4b9-bfb93f393c5e"
      },
      "execution_count": 18,
      "outputs": [
        {
          "output_type": "stream",
          "name": "stdout",
          "text": [
            "1875/1875 [==============================] - 8s 4ms/step - loss: 0.4761\n"
          ]
        },
        {
          "output_type": "execute_result",
          "data": {
            "text/plain": [
              "<keras.callbacks.History at 0x7f4a6ad97b90>"
            ]
          },
          "metadata": {},
          "execution_count": 18
        }
      ]
    },
    {
      "cell_type": "markdown",
      "source": [
        "Ao adicionar uma camada a loss reduziu para 0.4761"
      ],
      "metadata": {
        "id": "7kI_TUPbGdno"
      }
    },
    {
      "cell_type": "code",
      "source": [
        "modelo3 = keras.Sequential([\n",
        "  keras.layers.Flatten(input_shape = (28, 28)),\n",
        "  keras.layers.Dense(256, activation= tensorflow.nn.relu),\n",
        "  keras.layers.Dense(128, activation=tensorflow.nn.relu), #camada oculta\n",
        "  keras.layers.Dense(64, activation=tensorflow.nn.relu), #camada oculta\n",
        "  keras.layers.Dense(10, activation = tensorflow.nn.softmax)\n",
        "  ])"
      ],
      "metadata": {
        "id": "HaUbYWkXGaH2"
      },
      "execution_count": 19,
      "outputs": []
    },
    {
      "cell_type": "code",
      "source": [
        "modelo3.compile(optimizer='adam', loss='sparse_categorical_crossentropy')\n",
        "modelo3.fit(imagens_treino, identificacoes_treino)"
      ],
      "metadata": {
        "colab": {
          "base_uri": "https://localhost:8080/"
        },
        "id": "vdrAbrItG9ue",
        "outputId": "8c914498-8cd2-4be0-ee9b-d90d15be8ab7"
      },
      "execution_count": 20,
      "outputs": [
        {
          "output_type": "stream",
          "name": "stdout",
          "text": [
            "1875/1875 [==============================] - 8s 4ms/step - loss: 0.4811\n"
          ]
        },
        {
          "output_type": "execute_result",
          "data": {
            "text/plain": [
              "<keras.callbacks.History at 0x7f4a63c5ca10>"
            ]
          },
          "metadata": {},
          "execution_count": 20
        }
      ]
    },
    {
      "cell_type": "markdown",
      "source": [
        "Com 2 camadas ocultas o erro aumenta, então o melhor é deixar com apenas 1 camada oculta\n",
        "\n",
        "O melhor é o modelo 2"
      ],
      "metadata": {
        "id": "Kc2G9Th7HDzw"
      }
    },
    {
      "cell_type": "markdown",
      "source": [
        "#Aumentando o treinamento"
      ],
      "metadata": {
        "id": "DnrILm04IMGM"
      }
    },
    {
      "cell_type": "code",
      "source": [
        "modelo2.fit(imagens_treino, identificacoes_treino, epochs=5)"
      ],
      "metadata": {
        "colab": {
          "base_uri": "https://localhost:8080/"
        },
        "id": "b0D-VeToHAP7",
        "outputId": "7372fe85-dbb5-44a3-866b-b41a24b272f5"
      },
      "execution_count": 21,
      "outputs": [
        {
          "output_type": "stream",
          "name": "stdout",
          "text": [
            "Epoch 1/5\n",
            "1875/1875 [==============================] - 7s 4ms/step - loss: 0.3629\n",
            "Epoch 2/5\n",
            "1875/1875 [==============================] - 7s 4ms/step - loss: 0.3240\n",
            "Epoch 3/5\n",
            "1875/1875 [==============================] - 7s 4ms/step - loss: 0.3019\n",
            "Epoch 4/5\n",
            "1875/1875 [==============================] - 7s 4ms/step - loss: 0.2827\n",
            "Epoch 5/5\n",
            "1875/1875 [==============================] - 8s 4ms/step - loss: 0.2692\n"
          ]
        },
        {
          "output_type": "execute_result",
          "data": {
            "text/plain": [
              "<keras.callbacks.History at 0x7f4a63ca5c50>"
            ]
          },
          "metadata": {},
          "execution_count": 21
        }
      ]
    },
    {
      "cell_type": "markdown",
      "source": [
        "Adicionando mais épocas chegamos a uma loss de 0.2692"
      ],
      "metadata": {
        "id": "7T1bEIFPImt3"
      }
    },
    {
      "cell_type": "markdown",
      "source": [
        "#Medindo Acurácia"
      ],
      "metadata": {
        "id": "QG75WtEiIvgP"
      }
    },
    {
      "cell_type": "code",
      "source": [
        "modelo2.compile(optimizer='adam', loss='sparse_categorical_crossentropy', metrics=['accuracy'])\n",
        "modelo2.fit(imagens_treino, identificacoes_treino, epochs=5)"
      ],
      "metadata": {
        "colab": {
          "base_uri": "https://localhost:8080/"
        },
        "id": "Nsxt63LlIaJE",
        "outputId": "5e60851a-e78a-422f-d699-4df6dd775db2"
      },
      "execution_count": 22,
      "outputs": [
        {
          "output_type": "stream",
          "name": "stdout",
          "text": [
            "Epoch 1/5\n",
            "1875/1875 [==============================] - 10s 5ms/step - loss: 0.2583 - accuracy: 0.9042\n",
            "Epoch 2/5\n",
            "1875/1875 [==============================] - 10s 5ms/step - loss: 0.2431 - accuracy: 0.9085\n",
            "Epoch 3/5\n",
            "1875/1875 [==============================] - 8s 4ms/step - loss: 0.2370 - accuracy: 0.9100\n",
            "Epoch 4/5\n",
            "1875/1875 [==============================] - 11s 6ms/step - loss: 0.2257 - accuracy: 0.9142\n",
            "Epoch 5/5\n",
            "1875/1875 [==============================] - 13s 7ms/step - loss: 0.2209 - accuracy: 0.9165\n"
          ]
        },
        {
          "output_type": "execute_result",
          "data": {
            "text/plain": [
              "<keras.callbacks.History at 0x7f4a63ca56d0>"
            ]
          },
          "metadata": {},
          "execution_count": 22
        }
      ]
    },
    {
      "cell_type": "markdown",
      "source": [
        "#Testando o Modelo"
      ],
      "metadata": {
        "id": "WUdVTbklJQya"
      }
    },
    {
      "cell_type": "code",
      "source": [
        "testes = modelo2.predict(imagens_teste)"
      ],
      "metadata": {
        "colab": {
          "base_uri": "https://localhost:8080/"
        },
        "id": "Bo0Guq1NI9Xq",
        "outputId": "53e4a4b3-1739-4c3b-c2a9-a7c0d8e98e7c"
      },
      "execution_count": 23,
      "outputs": [
        {
          "output_type": "stream",
          "name": "stdout",
          "text": [
            "313/313 [==============================] - 1s 2ms/step\n"
          ]
        }
      ]
    },
    {
      "cell_type": "markdown",
      "source": [
        "#Avaliação do Modelo"
      ],
      "metadata": {
        "id": "B0o-JLCxKHnB"
      }
    },
    {
      "cell_type": "code",
      "source": [
        "modelo2.evaluate(imagens_teste, identificacoes_teste)"
      ],
      "metadata": {
        "colab": {
          "base_uri": "https://localhost:8080/"
        },
        "id": "NJ_7HoDGKCI6",
        "outputId": "ee429bd0-8958-4662-8bf5-65e0b467aa02"
      },
      "execution_count": 24,
      "outputs": [
        {
          "output_type": "stream",
          "name": "stdout",
          "text": [
            "313/313 [==============================] - 1s 2ms/step - loss: 51.8230 - accuracy: 0.8749\n"
          ]
        },
        {
          "output_type": "execute_result",
          "data": {
            "text/plain": [
              "[51.822959899902344, 0.8748999834060669]"
            ]
          },
          "metadata": {},
          "execution_count": 24
        }
      ]
    },
    {
      "cell_type": "markdown",
      "source": [
        "A perda está alta e a acurácia baixa"
      ],
      "metadata": {
        "id": "PCauNQ1RKm4f"
      }
    },
    {
      "cell_type": "code",
      "source": [
        "historico = modelo2.fit(imagens_treino, identificacoes_treino, epochs=5, validation_split=0.2)"
      ],
      "metadata": {
        "colab": {
          "base_uri": "https://localhost:8080/"
        },
        "id": "oKNvZn26KUK8",
        "outputId": "d7f22236-3593-42fd-ea31-3f3093f7a7a8"
      },
      "execution_count": 25,
      "outputs": [
        {
          "output_type": "stream",
          "name": "stdout",
          "text": [
            "Epoch 1/5\n",
            "1500/1500 [==============================] - 7s 4ms/step - loss: 0.2142 - accuracy: 0.9187 - val_loss: 0.2505 - val_accuracy: 0.9032\n",
            "Epoch 2/5\n",
            "1500/1500 [==============================] - 7s 5ms/step - loss: 0.2025 - accuracy: 0.9231 - val_loss: 0.2161 - val_accuracy: 0.9184\n",
            "Epoch 3/5\n",
            "1500/1500 [==============================] - 8s 5ms/step - loss: 0.1939 - accuracy: 0.9264 - val_loss: 0.2312 - val_accuracy: 0.9147\n",
            "Epoch 4/5\n",
            "1500/1500 [==============================] - 8s 5ms/step - loss: 0.1857 - accuracy: 0.9299 - val_loss: 0.2479 - val_accuracy: 0.9073\n",
            "Epoch 5/5\n",
            "1500/1500 [==============================] - 8s 5ms/step - loss: 0.1809 - accuracy: 0.9314 - val_loss: 0.2218 - val_accuracy: 0.9183\n"
          ]
        }
      ]
    },
    {
      "cell_type": "code",
      "source": [
        "plt.plot(historico.history['accuracy'])\n",
        "plt.plot(historico.history['val_accuracy'])\n",
        "plt.legend(['treino', 'validação'])"
      ],
      "metadata": {
        "colab": {
          "base_uri": "https://localhost:8080/",
          "height": 283
        },
        "id": "TOqiTmu3K0Mr",
        "outputId": "54aa03d3-3cab-4eed-c592-723c93540bb5"
      },
      "execution_count": 26,
      "outputs": [
        {
          "output_type": "execute_result",
          "data": {
            "text/plain": [
              "<matplotlib.legend.Legend at 0x7f4a63a4e590>"
            ]
          },
          "metadata": {},
          "execution_count": 26
        },
        {
          "output_type": "display_data",
          "data": {
            "text/plain": [
              "<Figure size 432x288 with 1 Axes>"
            ],
            "image/png": "[encoded data removed]"
          },
          "metadata": {
            "needs_background": "light"
          }
        }
      ]
    },
    {
      "cell_type": "code",
      "source": [
        "plt.plot(historico.history['loss'])\n",
        "plt.plot(historico.history['val_loss'])\n",
        "plt.legend(['treino', 'validação'])"
      ],
      "metadata": {
        "colab": {
          "base_uri": "https://localhost:8080/",
          "height": 283
        },
        "id": "LRy-SJV2LgWb",
        "outputId": "e5bd20df-2bbf-4b03-f543-4ca678f5ee23"
      },
      "execution_count": 27,
      "outputs": [
        {
          "output_type": "execute_result",
          "data": {
            "text/plain": [
              "<matplotlib.legend.Legend at 0x7f4a63917bd0>"
            ]
          },
          "metadata": {},
          "execution_count": 27
        },
        {
          "output_type": "display_data",
          "data": {
            "text/plain": [
              "<Figure size 432x288 with 1 Axes>"
            ],
            "image/png": "[encoded data removed]"
          },
          "metadata": {
            "needs_background": "light"
          }
        }
      ]
    },
    {
      "cell_type": "markdown",
      "source": [
        "Esta tendo um underfitting"
      ],
      "metadata": {
        "id": "k9k8Rz-jMyYK"
      }
    },
    {
      "cell_type": "markdown",
      "source": [
        "#Refazendo o Treino"
      ],
      "metadata": {
        "id": "coBgc3SPMrbz"
      }
    },
    {
      "cell_type": "code",
      "source": [
        "historico = modelo2.fit(imagens_treino, identificacoes_treino, epochs=10, validation_split=0.2)"
      ],
      "metadata": {
        "colab": {
          "base_uri": "https://localhost:8080/"
        },
        "id": "QJQTVKiPMD-Q",
        "outputId": "6a5afa66-c3be-4e23-9f8e-5a0f45a34d7d"
      },
      "execution_count": 28,
      "outputs": [
        {
          "output_type": "stream",
          "name": "stdout",
          "text": [
            "Epoch 1/10\n",
            "1500/1500 [==============================] - 8s 5ms/step - loss: 0.1747 - accuracy: 0.9337 - val_loss: 0.2595 - val_accuracy: 0.9061\n",
            "Epoch 2/10\n",
            "1500/1500 [==============================] - 7s 5ms/step - loss: 0.1689 - accuracy: 0.9358 - val_loss: 0.2480 - val_accuracy: 0.9097\n",
            "Epoch 3/10\n",
            "1500/1500 [==============================] - 7s 5ms/step - loss: 0.1659 - accuracy: 0.9361 - val_loss: 0.2317 - val_accuracy: 0.9162\n",
            "Epoch 4/10\n",
            "1500/1500 [==============================] - 7s 4ms/step - loss: 0.1564 - accuracy: 0.9391 - val_loss: 0.2347 - val_accuracy: 0.9140\n",
            "Epoch 5/10\n",
            "1500/1500 [==============================] - 7s 5ms/step - loss: 0.1554 - accuracy: 0.9400 - val_loss: 0.2744 - val_accuracy: 0.9045\n",
            "Epoch 6/10\n",
            "1500/1500 [==============================] - 7s 5ms/step - loss: 0.1525 - accuracy: 0.9421 - val_loss: 0.2756 - val_accuracy: 0.9089\n",
            "Epoch 7/10\n",
            "1500/1500 [==============================] - 10s 7ms/step - loss: 0.1431 - accuracy: 0.9447 - val_loss: 0.2882 - val_accuracy: 0.9076\n",
            "Epoch 8/10\n",
            "1500/1500 [==============================] - 7s 5ms/step - loss: 0.1400 - accuracy: 0.9462 - val_loss: 0.2911 - val_accuracy: 0.9079\n",
            "Epoch 9/10\n",
            "1500/1500 [==============================] - 7s 4ms/step - loss: 0.1388 - accuracy: 0.9470 - val_loss: 0.2833 - val_accuracy: 0.9095\n",
            "Epoch 10/10\n",
            "1500/1500 [==============================] - 7s 5ms/step - loss: 0.1349 - accuracy: 0.9473 - val_loss: 0.2641 - val_accuracy: 0.9138\n"
          ]
        }
      ]
    },
    {
      "cell_type": "code",
      "source": [
        "plt.plot(historico.history['accuracy'])\n",
        "plt.plot(historico.history['val_accuracy'])\n",
        "plt.legend(['treino', 'validação'])"
      ],
      "metadata": {
        "colab": {
          "base_uri": "https://localhost:8080/",
          "height": 283
        },
        "id": "2qE52bO_MwGd",
        "outputId": "69d7102e-5c6d-45cd-f0db-9533aeb8fb6e"
      },
      "execution_count": 29,
      "outputs": [
        {
          "output_type": "execute_result",
          "data": {
            "text/plain": [
              "<matplotlib.legend.Legend at 0x7f4a63863f10>"
            ]
          },
          "metadata": {},
          "execution_count": 29
        },
        {
          "output_type": "display_data",
          "data": {
            "text/plain": [
              "<Figure size 432x288 with 1 Axes>"
            ],
            "image/png": "[encoded data removed]"
          },
          "metadata": {
            "needs_background": "light"
          }
        }
      ]
    },
    {
      "cell_type": "code",
      "source": [
        "plt.plot(historico.history['loss'])\n",
        "plt.plot(historico.history['val_loss'])\n",
        "plt.legend(['treino', 'validação'])"
      ],
      "metadata": {
        "colab": {
          "base_uri": "https://localhost:8080/",
          "height": 283
        },
        "id": "nAOAYPBzNJPn",
        "outputId": "0c9d1b3e-50ea-4fd6-880f-e4b476156b5f"
      },
      "execution_count": 30,
      "outputs": [
        {
          "output_type": "execute_result",
          "data": {
            "text/plain": [
              "<matplotlib.legend.Legend at 0x7f4a639add90>"
            ]
          },
          "metadata": {},
          "execution_count": 30
        },
        {
          "output_type": "display_data",
          "data": {
            "text/plain": [
              "<Figure size 432x288 with 1 Axes>"
            ],
            "image/png": "[encoded data removed]"
          },
          "metadata": {
            "needs_background": "light"
          }
        }
      ]
    },
    {
      "cell_type": "markdown",
      "source": [
        "Pela análise dos gráficos aparentemente o melhor é com 3 épocas"
      ],
      "metadata": {
        "id": "NdkIl3NkNa8H"
      }
    },
    {
      "cell_type": "code",
      "source": [
        "modelo2 = keras.Sequential([\n",
        "  keras.layers.Flatten(input_shape = (28, 28)),\n",
        "  keras.layers.Dense(256, activation= tensorflow.nn.relu),\n",
        "  keras.layers.Dropout(0.2),\n",
        "  keras.layers.Dense(128, activation=tensorflow.nn.relu), #camada oculta\n",
        "  keras.layers.Dense(10, activation = tensorflow.nn.softmax)\n",
        "  ])"
      ],
      "metadata": {
        "id": "l1FHBSHhNmkA"
      },
      "execution_count": 42,
      "outputs": []
    },
    {
      "cell_type": "code",
      "source": [
        "modelo2.compile(optimizer='adam', loss='sparse_categorical_crossentropy', metrics=['accuracy'])"
      ],
      "metadata": {
        "id": "O4eJJP3cRzw7"
      },
      "execution_count": 43,
      "outputs": []
    },
    {
      "cell_type": "code",
      "source": [
        "historico = modelo2.fit(imagens_treino, identificacoes_treino, epochs=3, validation_split=0.2)"
      ],
      "metadata": {
        "colab": {
          "base_uri": "https://localhost:8080/"
        },
        "id": "mq5JYvtlOCOZ",
        "outputId": "65ee100e-36f9-474f-8a6f-c04d8bad2bd5"
      },
      "execution_count": 44,
      "outputs": [
        {
          "output_type": "stream",
          "name": "stdout",
          "text": [
            "Epoch 1/3\n",
            "1500/1500 [==============================] - 7s 5ms/step - loss: 0.5241 - accuracy: 0.8109 - val_loss: 0.3984 - val_accuracy: 0.8544\n",
            "Epoch 2/3\n",
            "1500/1500 [==============================] - 7s 5ms/step - loss: 0.4024 - accuracy: 0.8516 - val_loss: 0.4105 - val_accuracy: 0.8504\n",
            "Epoch 3/3\n",
            "1500/1500 [==============================] - 9s 6ms/step - loss: 0.3652 - accuracy: 0.8647 - val_loss: 0.3524 - val_accuracy: 0.8696\n"
          ]
        }
      ]
    },
    {
      "cell_type": "code",
      "source": [
        "plt.plot(historico.history['accuracy'])\n",
        "plt.plot(historico.history['val_accuracy'])\n",
        "plt.legend(['treino', 'validação'])"
      ],
      "metadata": {
        "colab": {
          "base_uri": "https://localhost:8080/",
          "height": 283
        },
        "id": "LB6gOBGnPecF",
        "outputId": "f7ee5359-0caa-453f-bfc8-478802c87737"
      },
      "execution_count": 45,
      "outputs": [
        {
          "output_type": "execute_result",
          "data": {
            "text/plain": [
              "<matplotlib.legend.Legend at 0x7f4a5f4a58d0>"
            ]
          },
          "metadata": {},
          "execution_count": 45
        },
        {
          "output_type": "display_data",
          "data": {
            "text/plain": [
              "<Figure size 432x288 with 1 Axes>"
            ],
            "image/png": "[encoded data removed]"
          },
          "metadata": {
            "needs_background": "light"
          }
        }
      ]
    },
    {
      "cell_type": "code",
      "source": [
        "plt.plot(historico.history['loss'])\n",
        "plt.plot(historico.history['val_loss'])\n",
        "plt.legend(['treino', 'validação'])"
      ],
      "metadata": {
        "colab": {
          "base_uri": "https://localhost:8080/",
          "height": 283
        },
        "id": "WvnbUhOhPjwc",
        "outputId": "9a7b50b2-b9aa-40a2-9a3d-4355e07ea225"
      },
      "execution_count": 46,
      "outputs": [
        {
          "output_type": "execute_result",
          "data": {
            "text/plain": [
              "<matplotlib.legend.Legend at 0x7f4a5f4d3c50>"
            ]
          },
          "metadata": {},
          "execution_count": 46
        },
        {
          "output_type": "display_data",
          "data": {
            "text/plain": [
              "<Figure size 432x288 with 1 Axes>"
            ],
            "image/png": "[encoded data removed]"
          },
          "metadata": {
            "needs_background": "light"
          }
        }
      ]
    },
    {
      "cell_type": "markdown",
      "source": [
        "#Resumo do Modelo"
      ],
      "metadata": {
        "id": "XHZiNEsdTAkz"
      }
    },
    {
      "cell_type": "code",
      "source": [
        "modelo2.summary()"
      ],
      "metadata": {
        "colab": {
          "base_uri": "https://localhost:8080/"
        },
        "id": "QJnydJXhS9zQ",
        "outputId": "a4d1a72a-9a4b-4939-aeeb-74de681d565d"
      },
      "execution_count": 47,
      "outputs": [
        {
          "output_type": "stream",
          "name": "stdout",
          "text": [
            "Model: \"sequential_4\"\n",
            "_________________________________________________________________\n",
            " Layer (type)                Output Shape              Param #   \n",
            "=================================================================\n",
            " flatten_4 (Flatten)         (None, 784)               0         \n",
            "                                                                 \n",
            " dense_12 (Dense)            (None, 256)               200960    \n",
            "                                                                 \n",
            " dropout_1 (Dropout)         (None, 256)               0         \n",
            "                                                                 \n",
            " dense_13 (Dense)            (None, 128)               32896     \n",
            "                                                                 \n",
            " dense_14 (Dense)            (None, 10)                1290      \n",
            "                                                                 \n",
            "=================================================================\n",
            "Total params: 235,146\n",
            "Trainable params: 235,146\n",
            "Non-trainable params: 0\n",
            "_________________________________________________________________\n"
          ]
        }
      ]
    },
    {
      "cell_type": "code",
      "source": [
        "pesos_camada_dense = modelo.layers[1].get_weights()[0]\n",
        "pesos_camada_dense"
      ],
      "metadata": {
        "colab": {
          "base_uri": "https://localhost:8080/"
        },
        "id": "5pgLqCQrT_Ud",
        "outputId": "1f58409b-8e96-428e-bfc3-e552efac0d21"
      },
      "execution_count": 48,
      "outputs": [
        {
          "output_type": "execute_result",
          "data": {
            "text/plain": [
              "array([[-0.00044523,  0.06373893,  0.02572864, ...,  0.09111941,\n",
              "         0.05437513,  0.04851476],\n",
              "       [ 0.0628121 ,  0.06510317,  0.02639206, ...,  0.08063122,\n",
              "         0.0008949 ,  0.00938542],\n",
              "       [ 0.0292517 , -0.09332291, -0.04385323, ...,  0.07999586,\n",
              "        -0.00367682, -0.06395673],\n",
              "       ...,\n",
              "       [ 0.06158839,  0.03508709,  0.06185199, ...,  0.05602338,\n",
              "        -0.07582753, -0.00274586],\n",
              "       [ 0.02967913,  0.05181678, -0.05736171, ...,  0.04537251,\n",
              "         0.05624636,  0.07190224],\n",
              "       [-0.03039878,  0.06502556,  0.02778625, ...,  0.02844219,\n",
              "        -0.01815316,  0.05602834]], dtype=float32)"
            ]
          },
          "metadata": {},
          "execution_count": 48
        }
      ]
    },
    {
      "cell_type": "code",
      "source": [
        "vieses_camada_dense = modelo.layers[1].get_weights()[1]\n",
        "vieses_camada_dense"
      ],
      "metadata": {
        "colab": {
          "base_uri": "https://localhost:8080/"
        },
        "id": "I65PhHrqfijt",
        "outputId": "657458ef-b2c1-4964-c251-0268c79e9708"
      },
      "execution_count": 49,
      "outputs": [
        {
          "output_type": "execute_result",
          "data": {
            "text/plain": [
              "array([ 4.78891551e-01,  8.07097435e-01, -1.65142361e-02, -1.89547725e-02,\n",
              "        1.26117067e-02, -2.65665376e-03, -2.29340419e-02,  5.33695102e-01,\n",
              "        9.22593474e-01, -4.61947813e-04, -3.00997049e-02,  6.04703277e-03,\n",
              "        2.85659671e-01, -2.14138851e-02, -1.39358006e-02,  1.06564677e+00,\n",
              "        7.10433722e-01, -1.52105875e-02,  1.03180301e+00,  9.37937558e-01,\n",
              "        4.94679540e-01,  6.87993050e-01, -3.00250612e-02, -2.12721657e-02,\n",
              "        3.80750746e-01,  3.85225683e-01, -2.01964080e-02,  3.11078001e-02,\n",
              "        5.42637944e-01, -3.61004584e-02,  1.83177412e-01, -1.63158439e-02,\n",
              "       -1.83693971e-02,  4.00908917e-01, -2.24372856e-02, -1.21302670e-04,\n",
              "        1.18122649e+00,  6.47947669e-01,  3.99718195e-01, -1.47997111e-01,\n",
              "        1.65780455e-01,  8.15493584e-01,  3.87734741e-01,  1.20425284e-01,\n",
              "        9.34010088e-01,  4.22131568e-02,  5.08668758e-02,  5.41407168e-01,\n",
              "       -1.74640417e-02, -3.47869620e-02, -1.37869176e-02,  4.89252061e-01,\n",
              "       -2.18809880e-02,  2.68225461e-01,  2.71064073e-01, -1.52147776e-02,\n",
              "       -3.58488187e-02,  9.22004700e-01, -1.01185655e-02,  5.54474117e-03,\n",
              "       -1.27552701e-02,  1.42768681e-01,  4.04004872e-01,  3.72376561e-01,\n",
              "        3.59037076e-03, -1.02747874e-02,  8.83782566e-01,  7.45904446e-01,\n",
              "       -1.03673413e-02, -1.98839027e-02, -1.67486686e-02, -1.33026736e-02,\n",
              "        9.09294724e-01,  1.31453037e+00,  7.31960237e-01,  1.59902684e-03,\n",
              "        3.63579184e-01,  8.85577440e-01, -1.37022277e-02,  6.85146749e-01,\n",
              "        1.01107143e-01, -2.38520373e-02, -2.59070676e-02, -2.95662172e-02,\n",
              "        7.89846122e-01,  2.17731223e-01, -3.52668539e-02,  7.66096294e-01,\n",
              "        5.17610729e-01,  2.20825505e-02, -1.53683927e-02, -3.82620133e-02,\n",
              "        2.33503595e-01, -2.50646640e-02,  1.83153781e-03,  8.91754150e-01,\n",
              "        7.09167361e-01,  8.10004830e-01,  5.72284088e-02,  1.36504292e-01,\n",
              "       -1.22590745e-02, -3.17859165e-02,  7.87277341e-01, -3.00795790e-02,\n",
              "       -1.88795477e-02, -1.05630299e-02,  2.25082502e-01, -1.63694024e-02,\n",
              "       -7.88716041e-03, -2.81681996e-02, -1.16566392e-02,  5.66551149e-01,\n",
              "        8.47325027e-01, -1.56413894e-02,  4.43285227e-01,  1.68422121e-03,\n",
              "       -2.00039167e-02, -6.35416899e-03,  7.79476203e-03, -7.20464450e-04,\n",
              "        4.38488834e-02, -1.36132585e-02,  1.01321435e+00,  1.13842703e-01,\n",
              "       -1.54970831e-03, -3.39943618e-02,  1.03493510e-02,  8.37777741e-03,\n",
              "        8.18372011e-01, -3.30342203e-02,  3.55175249e-02,  9.89080071e-01,\n",
              "        6.68234110e-01,  3.03698361e-01,  1.51537610e-02, -1.51724555e-03,\n",
              "        6.28313363e-01,  3.93506559e-03, -9.18320194e-03,  5.77286119e-04,\n",
              "        5.05295932e-01,  6.07532915e-03, -1.85339991e-02,  1.88589301e-02,\n",
              "        6.40301732e-03, -1.93393975e-02,  1.66090392e-02,  1.20785855e-01,\n",
              "       -2.48848852e-02,  5.92616081e-01,  7.54676461e-02,  8.93608570e-01,\n",
              "       -2.83232257e-02, -1.62896831e-02,  1.45441219e-01,  2.95569077e-02,\n",
              "        1.58885852e-01, -1.67032070e-02,  1.88709527e-01, -2.87792273e-02,\n",
              "        8.96588683e-01, -2.53325049e-02,  4.68485244e-03,  2.69580148e-02,\n",
              "        8.90384197e-01,  6.26908600e-01, -5.45236748e-03,  8.05204272e-01,\n",
              "       -2.37050802e-02,  2.80400347e-02,  8.68004858e-02, -6.43488169e-02,\n",
              "       -2.53559090e-02,  5.36593199e-01,  4.66078192e-01,  6.39482737e-01,\n",
              "        1.75571367e-02,  3.36553976e-02,  1.41683668e-02,  2.96015561e-01,\n",
              "        6.63067579e-01,  7.74493873e-01,  4.64571156e-02, -1.44369984e-02,\n",
              "        1.05621684e+00, -3.31866555e-02,  1.46857858e-01,  6.02310777e-01,\n",
              "        8.81809711e-01, -1.50581421e-02, -1.43719837e-02,  5.23927927e-01,\n",
              "        4.58754711e-02,  1.77206621e-01,  7.81168193e-02,  1.22095741e-01,\n",
              "        5.53783611e-04, -1.76597554e-02, -6.99027926e-02, -1.32956952e-02,\n",
              "        6.95849597e-01, -4.35307175e-02, -1.43573461e-02,  8.29960346e-01,\n",
              "       -1.86969005e-02,  6.10393588e-04, -1.28373178e-02, -2.28018314e-02,\n",
              "        6.85348272e-01,  1.73222031e-02,  1.51098326e-01,  3.45156252e-01,\n",
              "       -8.40150227e-04, -1.09108174e-02,  4.69600176e-03, -1.83850583e-02,\n",
              "        8.21883857e-01,  8.30678284e-01,  2.09654853e-01,  6.74356222e-01,\n",
              "        9.43560958e-01,  3.66762668e-01,  6.67407990e-01,  1.06467247e+00,\n",
              "       -5.08025996e-02, -1.72851048e-02,  2.21850779e-02,  5.21925330e-01,\n",
              "        8.29156280e-01,  6.19914532e-02, -2.70009898e-02,  1.62322402e-01,\n",
              "        6.94123566e-01,  1.91045925e-02,  7.09292889e-01, -2.04819832e-02,\n",
              "        1.15884305e-03, -1.28007177e-02,  7.79815972e-01, -6.62122574e-03,\n",
              "       -1.30066480e-02,  4.91200872e-02,  1.91088337e-02,  8.47895205e-01,\n",
              "        9.54576850e-01,  3.00352871e-02,  7.11173952e-01,  7.79531777e-01,\n",
              "        5.51291704e-01, -2.05807127e-02,  1.10660896e-01,  3.44272226e-01,\n",
              "       -2.18776073e-02,  8.90689433e-01,  1.81164742e-02,  1.22097069e-02],\n",
              "      dtype=float32)"
            ]
          },
          "metadata": {},
          "execution_count": 49
        }
      ]
    },
    {
      "cell_type": "markdown",
      "source": [
        "Os vieses mostram o quão distante o modelo ficou de uma classificação perfeita (na prática funcionam como uma correção)"
      ],
      "metadata": {
        "id": "Jf_3gBg1fw1f"
      }
    },
    {
      "cell_type": "markdown",
      "source": [
        "#Modificando Hiperparâmetros"
      ],
      "metadata": {
        "id": "YeJiE8bvyRTr"
      }
    },
    {
      "cell_type": "markdown",
      "source": [
        "Adam"
      ],
      "metadata": {
        "id": "OJkRTVvV0SMf"
      }
    },
    {
      "cell_type": "code",
      "source": [
        "adam = keras.optimizers.Adam(lr=0.02)"
      ],
      "metadata": {
        "id": "aycV4kq9yW4w"
      },
      "execution_count": 50,
      "outputs": []
    },
    {
      "cell_type": "code",
      "source": [
        "modelo2.compile(optimizer=adam, loss='sparse_categorical_crossentropy', metrics=['accuracy'])"
      ],
      "metadata": {
        "id": "rmReDEyEymOj"
      },
      "execution_count": 51,
      "outputs": []
    },
    {
      "cell_type": "code",
      "source": [
        "historico = modelo2.fit(imagens_treino, identificacoes_treino, epochs=3, validation_split=0.2)"
      ],
      "metadata": {
        "colab": {
          "base_uri": "https://localhost:8080/"
        },
        "id": "f_UsqzILyouG",
        "outputId": "3acfa73a-a3dc-4e59-8580-969a61f77a0c"
      },
      "execution_count": 52,
      "outputs": [
        {
          "output_type": "stream",
          "name": "stdout",
          "text": [
            "Epoch 1/3\n",
            "1500/1500 [==============================] - 8s 5ms/step - loss: 0.8281 - accuracy: 0.7137 - val_loss: 0.6064 - val_accuracy: 0.7874\n",
            "Epoch 2/3\n",
            "1500/1500 [==============================] - 7s 5ms/step - loss: 0.7557 - accuracy: 0.7377 - val_loss: 0.6460 - val_accuracy: 0.7918\n",
            "Epoch 3/3\n",
            "1500/1500 [==============================] - 7s 4ms/step - loss: 0.7418 - accuracy: 0.7416 - val_loss: 0.5935 - val_accuracy: 0.7975\n"
          ]
        }
      ]
    },
    {
      "cell_type": "code",
      "source": [
        "plt.plot(historico.history['accuracy'])\n",
        "plt.plot(historico.history['val_accuracy'])\n",
        "plt.legend(['treino', 'validação'])"
      ],
      "metadata": {
        "colab": {
          "base_uri": "https://localhost:8080/",
          "height": 283
        },
        "id": "IUKQ0FrXy0TL",
        "outputId": "b9222d10-64cd-482b-b7f6-57e8adf39f07"
      },
      "execution_count": 53,
      "outputs": [
        {
          "output_type": "execute_result",
          "data": {
            "text/plain": [
              "<matplotlib.legend.Legend at 0x7f4a5f263610>"
            ]
          },
          "metadata": {},
          "execution_count": 53
        },
        {
          "output_type": "display_data",
          "data": {
            "text/plain": [
              "<Figure size 432x288 with 1 Axes>"
            ],
            "image/png": "[encoded data removed]"
          },
          "metadata": {
            "needs_background": "light"
          }
        }
      ]
    },
    {
      "cell_type": "code",
      "source": [
        "plt.plot(historico.history['loss'])\n",
        "plt.plot(historico.history['val_loss'])\n",
        "plt.legend(['treino', 'validação'])"
      ],
      "metadata": {
        "colab": {
          "base_uri": "https://localhost:8080/",
          "height": 283
        },
        "id": "WUewWwRbzr2k",
        "outputId": "73eec704-9ffa-4b1f-b286-42d51663759f"
      },
      "execution_count": 54,
      "outputs": [
        {
          "output_type": "execute_result",
          "data": {
            "text/plain": [
              "<matplotlib.legend.Legend at 0x7f4a5f2ef190>"
            ]
          },
          "metadata": {},
          "execution_count": 54
        },
        {
          "output_type": "display_data",
          "data": {
            "text/plain": [
              "<Figure size 432x288 with 1 Axes>"
            ],
            "image/png": "[encoded data removed]"
          },
          "metadata": {
            "needs_background": "light"
          }
        }
      ]
    },
    {
      "cell_type": "markdown",
      "source": [
        "Batch_size"
      ],
      "metadata": {
        "id": "AyiEi9xZ0wVH"
      }
    },
    {
      "cell_type": "code",
      "source": [
        "historico = modelo2.fit(imagens_treino, identificacoes_treino, batch_size=400 ,epochs=3, validation_split=0.2)"
      ],
      "metadata": {
        "colab": {
          "base_uri": "https://localhost:8080/"
        },
        "id": "EiF24_dL0yq2",
        "outputId": "750e1eac-22d4-478b-b534-b6216de0bc59"
      },
      "execution_count": 57,
      "outputs": [
        {
          "output_type": "stream",
          "name": "stdout",
          "text": [
            "Epoch 1/3\n",
            "120/120 [==============================] - 2s 16ms/step - loss: 0.5084 - accuracy: 0.8190 - val_loss: 0.4508 - val_accuracy: 0.8443\n",
            "Epoch 2/3\n",
            "120/120 [==============================] - 2s 15ms/step - loss: 0.4977 - accuracy: 0.8231 - val_loss: 0.4506 - val_accuracy: 0.8467\n",
            "Epoch 3/3\n",
            "120/120 [==============================] - 2s 15ms/step - loss: 0.4972 - accuracy: 0.8247 - val_loss: 0.4448 - val_accuracy: 0.8485\n"
          ]
        }
      ]
    },
    {
      "cell_type": "code",
      "source": [
        "parada = [keras.callbacks.EarlyStopping(monitor='val_loss'),\n",
        "          keras.callbacks.ModelCheckpoint(filepath='melhor_modelo.hdf5', monitor='val_loss',\n",
        "                                          save_best_only=True)]\n",
        "modelo2.compile(optimizer=adam, loss='sparse_categorical_crossentropy', metrics=['accuracy'])\n",
        "historico = modelo2.fit(imagens_treino, identificacoes_treino, batch_size=400 ,epochs=3, \n",
        "                        validation_split=0.2, callbacks=parada)"
      ],
      "metadata": {
        "colab": {
          "base_uri": "https://localhost:8080/"
        },
        "id": "E4QrBjBs19L6",
        "outputId": "a097618a-581e-413f-966d-44eadf61c408"
      },
      "execution_count": 56,
      "outputs": [
        {
          "output_type": "stream",
          "name": "stdout",
          "text": [
            "Epoch 1/6\n",
            "120/120 [==============================] - 2s 17ms/step - loss: 0.5394 - accuracy: 0.8040 - val_loss: 0.4899 - val_accuracy: 0.8288\n",
            "Epoch 2/6\n",
            "120/120 [==============================] - 2s 15ms/step - loss: 0.5264 - accuracy: 0.8091 - val_loss: 0.4749 - val_accuracy: 0.8336\n"
          ]
        }
      ]
    }
  ]
}